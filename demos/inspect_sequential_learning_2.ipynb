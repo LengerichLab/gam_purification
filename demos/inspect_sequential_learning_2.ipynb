{
 "cells": [
  {
   "cell_type": "markdown",
   "id": "783493e8",
   "metadata": {},
   "source": [
    "![alt text](example2.jpeg \"Title\")"
   ]
  },
  {
   "cell_type": "code",
   "execution_count": 1,
   "id": "16a31cef",
   "metadata": {},
   "outputs": [],
   "source": [
    "import numpy as np\n",
    "\n",
    "X = []\n",
    "vals = [0,1]\n",
    "for i in vals:\n",
    "    for j in vals:\n",
    "        for k in vals:\n",
    "            X.append([i, j, k])\n",
    "X.append([vals[0], vals[0], vals[0]])\n",
    "X.append([vals[1], vals[1], vals[1]])\n",
    "X.append([vals[1], vals[1], vals[1]])    \n",
    "X = np.array(X)\n",
    "\n",
    "Y3 = -6 * (1 - X[:, 2]) + 5 * (X[:, 2])\n",
    "Y12 = 4 * (1 - X[:, 0]) * (1 - X[:, 1]) - 6 * X[:, 0] * (1 - X[:, 1]) \\\n",
    "    - 6 * (1 - X[:, 0]) * X[:, 1] + 3 * X[:, 0] * X[:, 1]\n",
    "Y = Y3 + Y12"
   ]
  },
  {
   "cell_type": "code",
   "execution_count": 2,
   "id": "cbbc722b",
   "metadata": {},
   "outputs": [
    {
     "data": {
      "text/plain": [
       "1.0"
      ]
     },
     "execution_count": 2,
     "metadata": {},
     "output_type": "execute_result"
    }
   ],
   "source": [
    "(Y3 * Y12).mean()"
   ]
  },
  {
   "cell_type": "markdown",
   "id": "080ec138",
   "metadata": {},
   "source": [
    "## Fit intercept."
   ]
  },
  {
   "cell_type": "code",
   "execution_count": 3,
   "id": "b392a63a",
   "metadata": {},
   "outputs": [
    {
     "data": {
      "text/plain": [
       "0.0"
      ]
     },
     "execution_count": 3,
     "metadata": {},
     "output_type": "execute_result"
    }
   ],
   "source": [
    "f0 = np.mean(Y)\n",
    "residual = Y - f0\n",
    "f0"
   ]
  },
  {
   "cell_type": "markdown",
   "id": "0c0c106c",
   "metadata": {},
   "source": [
    "## Fit mains."
   ]
  },
  {
   "cell_type": "code",
   "execution_count": 4,
   "id": "803e9454",
   "metadata": {},
   "outputs": [],
   "source": [
    "def fit_main(residual, idx):\n",
    "    f = np.array([np.mean(residual[X[:, idx] == vals[i]]) for i in range(len(vals))])\n",
    "    f_preds = [f[vals.index(x)] for x in X[:, idx]]\n",
    "    residual = residual - f_preds\n",
    "    return f, f_preds, residual\n",
    "\n",
    "# Iterative algorithm, set the tolerance here.\n",
    "# Smaller tolerance values result in smaller errors.\n",
    "tol = 1e-10\n",
    "\n",
    "updates = np.inf\n",
    "residual = Y - f0\n",
    "residual_prev = residual\n",
    "f1, f1_preds, residual = fit_main(residual, 0)\n",
    "f2, f2_preds, residual = fit_main(residual, 1)\n",
    "f3, f3_preds, residual = fit_main(residual, 2)\n",
    "while updates > tol:\n",
    "    f1_new, f1_preds_new, residual = fit_main(residual, 0)\n",
    "    f2_new, f2_preds_new, residual = fit_main(residual, 1)\n",
    "    f3_new, f3_preds_new, residual = fit_main(residual, 2)\n",
    "    updates = np.sum(np.abs(f1_preds_new)) + np.sum(np.abs(f2_preds_new)) + np.sum(np.abs(f3_preds_new))\n",
    "    f1_preds += f1_preds_new\n",
    "    f2_preds += f2_preds_new\n",
    "    f3_preds += f3_preds_new\n",
    "    f1 += f1_new\n",
    "    f2 += f2_new\n",
    "    f3 += f3_new"
   ]
  },
  {
   "cell_type": "code",
   "execution_count": 5,
   "id": "eb06a3be",
   "metadata": {
    "scrolled": true
   },
   "outputs": [
    {
     "data": {
      "text/plain": [
       "array([ 0.04743083, -0.03952569])"
      ]
     },
     "execution_count": 5,
     "metadata": {},
     "output_type": "execute_result"
    }
   ],
   "source": [
    "f1"
   ]
  },
  {
   "cell_type": "code",
   "execution_count": 6,
   "id": "a9b00298",
   "metadata": {},
   "outputs": [
    {
     "data": {
      "text/plain": [
       "array([ 0.04743083, -0.03952569])"
      ]
     },
     "execution_count": 6,
     "metadata": {},
     "output_type": "execute_result"
    }
   ],
   "source": [
    "f2"
   ]
  },
  {
   "cell_type": "code",
   "execution_count": 7,
   "id": "8b1b73e7",
   "metadata": {},
   "outputs": [
    {
     "data": {
      "text/plain": [
       "array([-6.22529644,  5.18774704])"
      ]
     },
     "execution_count": 7,
     "metadata": {},
     "output_type": "execute_result"
    }
   ],
   "source": [
    "f3"
   ]
  },
  {
   "cell_type": "markdown",
   "id": "a94e14ce",
   "metadata": {},
   "source": [
    "## Fit pairs according to first \"Sequential Learning\" Algorithm (Simplified EBM)."
   ]
  },
  {
   "cell_type": "code",
   "execution_count": 8,
   "id": "56029fe3",
   "metadata": {},
   "outputs": [],
   "source": [
    "def fit_pair(residual, idx1, idx2):\n",
    "    f = np.array([\n",
    "        np.array([np.mean(residual[np.logical_and(X[:, idx1] == vals[0], X[:, idx2] == vals[0])]), np.mean(residual[np.logical_and(X[:, idx1] == vals[0], X[:, idx2] == vals[1])])]),\n",
    "        np.array([np.mean(residual[np.logical_and(X[:, idx1] == vals[1], X[:, idx2] == vals[0])]), np.mean(residual[np.logical_and(X[:, idx1] == vals[1], X[:, idx2] == vals[1])])])\n",
    "    ])\n",
    "    f_preds = [f[vals.index(xi), vals.index(xj)] for (xi, xj) in X[:, [idx1, idx2]]]\n",
    "    residual = residual - f_preds\n",
    "    return f, f_preds, residual\n",
    "\n",
    "updates = np.inf\n",
    "residual_prev = residual\n",
    "f12, f12_preds, residual = fit_pair(residual, 0, 1)\n",
    "f13, f13_preds, residual = fit_pair(residual, 0, 2)\n",
    "f23, f23_preds, residual = fit_pair(residual, 1, 2)\n",
    "while updates > tol:\n",
    "    f12_new, f12_preds_new, residual = fit_pair(residual, 0, 1)\n",
    "    f13_new, f13_preds_new, residual = fit_pair(residual, 0, 2)\n",
    "    f23_new, f23_preds_new, residual = fit_pair(residual, 1, 2)\n",
    "    updates = np.sum(np.abs(f12_preds_new)) + np.sum(np.abs(f13_preds_new)) + np.sum(np.abs(f23_preds_new))\n",
    "    f12_preds += f12_preds_new\n",
    "    f13_preds += f13_preds_new\n",
    "    f23_preds += f23_preds_new\n",
    "    f12 += f12_new\n",
    "    f13 += f13_new\n",
    "    f23 += f23_new"
   ]
  },
  {
   "cell_type": "code",
   "execution_count": 9,
   "id": "cc195308",
   "metadata": {},
   "outputs": [
    {
     "name": "stdout",
     "output_type": "stream",
     "text": [
      "[ 1.16510250e-13 -2.45430769e-13  1.79118368e-13 -3.65613479e-13\n",
      " -2.33020501e-13  2.45430769e-13 -1.79118368e-13  1.21871160e-13\n",
      "  1.16510250e-13  1.21871160e-13  1.21871160e-13]\n",
      "Assertion Passed: All errors are smaller than tolerance, which was set to: 1e-10\n"
     ]
    }
   ],
   "source": [
    "errors = residual\n",
    "print(errors)\n",
    "\n",
    "assert np.max(np.abs(errors)) < tol\n",
    "print(\"Assertion Passed: All errors are smaller than tolerance, which was set to: {}\".format(tol))"
   ]
  },
  {
   "cell_type": "code",
   "execution_count": 10,
   "id": "35d70411",
   "metadata": {},
   "outputs": [
    {
     "data": {
      "text/plain": [
       "array([[ 4.00693341, -5.98844432],\n",
       "       [-6.01040012,  2.99422216]])"
      ]
     },
     "execution_count": 10,
     "metadata": {},
     "output_type": "execute_result"
    }
   ],
   "source": [
    "f12"
   ]
  },
  {
   "cell_type": "code",
   "execution_count": 11,
   "id": "6d3ab695",
   "metadata": {},
   "outputs": [
    {
     "data": {
      "text/plain": [
       "array([[-0.0329337 , -0.0548895 ],\n",
       "       [ 0.04940055,  0.02744475]])"
      ]
     },
     "execution_count": 11,
     "metadata": {},
     "output_type": "execute_result"
    }
   ],
   "source": [
    "f23"
   ]
  },
  {
   "cell_type": "code",
   "execution_count": 12,
   "id": "742dd772",
   "metadata": {},
   "outputs": [
    {
     "data": {
      "text/plain": [
       "array([[ 0.15643507, -0.23465261],\n",
       "       [ 0.26072512, -0.13036256]])"
      ]
     },
     "execution_count": 12,
     "metadata": {},
     "output_type": "execute_result"
    }
   ],
   "source": [
    "f13"
   ]
  },
  {
   "cell_type": "code",
   "execution_count": 13,
   "id": "9027c4da",
   "metadata": {},
   "outputs": [
    {
     "data": {
      "text/plain": [
       "array([ 0.04743083, -0.03952569])"
      ]
     },
     "execution_count": 13,
     "metadata": {},
     "output_type": "execute_result"
    }
   ],
   "source": [
    "f1"
   ]
  },
  {
   "cell_type": "code",
   "execution_count": 14,
   "id": "61c02eef",
   "metadata": {},
   "outputs": [
    {
     "data": {
      "text/plain": [
       "array([ 0.04743083, -0.03952569])"
      ]
     },
     "execution_count": 14,
     "metadata": {},
     "output_type": "execute_result"
    }
   ],
   "source": [
    "f2"
   ]
  },
  {
   "cell_type": "code",
   "execution_count": 15,
   "id": "d324527c",
   "metadata": {},
   "outputs": [
    {
     "data": {
      "text/plain": [
       "array([-6.22529644,  5.18774704])"
      ]
     },
     "execution_count": 15,
     "metadata": {},
     "output_type": "execute_result"
    }
   ],
   "source": [
    "f3"
   ]
  },
  {
   "cell_type": "code",
   "execution_count": 16,
   "id": "850848ab",
   "metadata": {},
   "outputs": [],
   "source": [
    "# https://github.com/blengerich/gam_purification\n",
    "from gam_purification.purify import purify\n",
    "def make_density(idx1, idx2):\n",
    "    densities = np.zeros((2, 2))\n",
    "    for xi, xj in X[:, [idx1, idx2]]:\n",
    "        densities[vals.index(xi), vals.index(xj)] += 1\n",
    "    return densities\n",
    "\n",
    "\n",
    "# Purify f12 into f1 and f2\n",
    "intercept, m1, m2, mat, i = purify(f12.copy(), densities=make_density(0, 1))\n",
    "\n",
    "f0 += intercept\n",
    "f1 += m1\n",
    "f2 += m2\n",
    "f12_pure = mat\n",
    "\n",
    "# Purify f13 into f1 and f3\n",
    "intercept, m1, m2, mat, i = purify(f13.copy(), densities=make_density(0, 2))\n",
    "\n",
    "f0 += intercept\n",
    "f1 += m1\n",
    "f3 += m2\n",
    "f13_pure = mat\n",
    "\n",
    "# Purify f23 into f2 and f3\n",
    "intercept, m1, m2, mat, i = purify(f23.copy(), densities=make_density(1, 2))\n",
    "\n",
    "f0 += intercept\n",
    "f2 += m1\n",
    "f3 += m2\n",
    "f23_pure = mat"
   ]
  },
  {
   "cell_type": "code",
   "execution_count": 17,
   "id": "9005fa65",
   "metadata": {},
   "outputs": [
    {
     "name": "stdout",
     "output_type": "stream",
     "text": [
      "Learned pure functions:\n",
      "f0 3.0830767232133257e-16\n",
      "f1 [-1.38325958e-07  1.15271630e-07]\n",
      "f2 [ 1.46134134e-07 -1.21778446e-07]\n",
      "f3 [-6.00000005  5.00000004]\n",
      "f12 [[ 4.00000018 -5.9999997 ]\n",
      " [-6.00000027  2.99999985]]\n",
      "f13 [[-7.58562200e-08 -1.26426470e-07]\n",
      " [ 1.13784330e-07  6.32132352e-08]]\n",
      "f23 [[-5.98863117e-08 -9.98106381e-08]\n",
      " [ 8.98294676e-08  4.99053191e-08]]\n"
     ]
    }
   ],
   "source": [
    "print(\"Learned pure functions:\")\n",
    "print(\"f0\", f0)\n",
    "print(\"f1\", f1)\n",
    "print(\"f2\", f2)\n",
    "print(\"f3\", f3)\n",
    "print(\"f12\", f12_pure)\n",
    "print(\"f13\", f13_pure)\n",
    "print(\"f23\", f23_pure)"
   ]
  },
  {
   "cell_type": "code",
   "execution_count": null,
   "id": "80503cfb",
   "metadata": {},
   "outputs": [],
   "source": []
  },
  {
   "cell_type": "markdown",
   "id": "41e303d3",
   "metadata": {},
   "source": [
    "## Second Algorithm of \"Sequential Learning\""
   ]
  },
  {
   "cell_type": "markdown",
   "id": "05cacd2b",
   "metadata": {},
   "source": [
    "In our context, we restrict the pairwise functions to be *pure*, so this backfitting scheme does not represent the scenario, as it learns any pairwise functions regardless of pureness."
   ]
  },
  {
   "cell_type": "markdown",
   "id": "ececd684",
   "metadata": {},
   "source": [
    "We use pure coding to implement sequential learning.\n",
    "$$\n",
    "\\begin{pmatrix}4&-6\\\\-6&3\\end{pmatrix}\n",
    "$$\n",
    "Forms a basis of 1-dimensional space of pure functions on $(x_1, x_2)$, and also $(x_1, x_3)$ and $(x_2, x_3)$ by symmetry. In order to learn $f_{12}, f_{13}, f_{23}\\in\\mathcal H_2$ (pure pairwise functions), they must be a linear mutiple of these basis vectors respectively."
   ]
  },
  {
   "cell_type": "code",
   "execution_count": 18,
   "id": "41e56073",
   "metadata": {},
   "outputs": [],
   "source": [
    "b12 = 4 * (1 - X[:, 0]) * (1 - X[:, 1]) - 6 * X[:, 0] * (1 - X[:, 1]) \\\n",
    "    - 6 * (1 - X[:, 0]) * X[:, 1] + 3 * X[:, 0] * X[:, 1]\n",
    "b13 = 4 * (1 - X[:, 0]) * (1 - X[:, 2]) - 6 * X[:, 0] * (1 - X[:, 2]) \\\n",
    "    - 6 * (1 - X[:, 0]) * X[:, 2] + 3 * X[:, 0] * X[:, 2]\n",
    "b23 = 4 * (1 - X[:, 1]) * (1 - X[:, 2]) - 6 * X[:, 1] * (1 - X[:, 2]) \\\n",
    "    - 6 * (1 - X[:, 1]) * X[:, 2] + 3 * X[:, 1] * X[:, 2]"
   ]
  },
  {
   "cell_type": "code",
   "execution_count": 19,
   "id": "ed607c54",
   "metadata": {},
   "outputs": [],
   "source": [
    "residual = residual_prev"
   ]
  },
  {
   "cell_type": "code",
   "execution_count": 20,
   "id": "72ab70c2",
   "metadata": {},
   "outputs": [
    {
     "data": {
      "text/plain": [
       "array([ 4.13043478,  3.7173913 , -5.7826087 , -6.19565217, -5.7826087 ,\n",
       "       -6.19565217,  3.30434783,  2.89130435,  4.13043478,  2.89130435,\n",
       "        2.89130435])"
      ]
     },
     "execution_count": 20,
     "metadata": {},
     "output_type": "execute_result"
    }
   ],
   "source": [
    "residual"
   ]
  },
  {
   "cell_type": "code",
   "execution_count": 21,
   "id": "c5019a0d",
   "metadata": {},
   "outputs": [],
   "source": [
    "M = np.c_[b12, b13, b23]\n",
    "c = np.linalg.inv(M.T @ M) @ M.T @ residual.reshape(-1, 1)"
   ]
  },
  {
   "cell_type": "code",
   "execution_count": 22,
   "id": "a9a035e2",
   "metadata": {},
   "outputs": [],
   "source": [
    "residual = residual - (M @ c).flatten()"
   ]
  },
  {
   "cell_type": "code",
   "execution_count": 23,
   "id": "849cb1b9",
   "metadata": {},
   "outputs": [],
   "source": [
    "f12 = c[0] * np.array([[4, -6], [-6, 3]])\n",
    "f13 = c[1] * np.array([[4, -6], [-6, 3]])\n",
    "f23 = c[2] * np.array([[4, -6], [-6, 3]])"
   ]
  },
  {
   "cell_type": "markdown",
   "id": "69f32775",
   "metadata": {},
   "source": [
    "## Evaluate the residual."
   ]
  },
  {
   "cell_type": "code",
   "execution_count": 24,
   "id": "2390fc98",
   "metadata": {},
   "outputs": [
    {
     "name": "stdout",
     "output_type": "stream",
     "text": [
      "[ 0.13340535 -0.26617287  0.20620282 -0.20616739  0.20620282 -0.20616739\n",
      "  0.31869449 -0.10646773  0.13340535 -0.10646773 -0.10646773]\n"
     ]
    },
    {
     "ename": "AssertionError",
     "evalue": "",
     "output_type": "error",
     "traceback": [
      "\u001b[0;31m---------------------------------------------------------------------------\u001b[0m",
      "\u001b[0;31mAssertionError\u001b[0m                            Traceback (most recent call last)",
      "\u001b[0;32m/var/folders/6k/gq0rczzs42397srsdh97_kch0000gn/T/ipykernel_86241/2633632123.py\u001b[0m in \u001b[0;36m<module>\u001b[0;34m\u001b[0m\n\u001b[1;32m      2\u001b[0m \u001b[0mprint\u001b[0m\u001b[0;34m(\u001b[0m\u001b[0merrors\u001b[0m\u001b[0;34m)\u001b[0m\u001b[0;34m\u001b[0m\u001b[0;34m\u001b[0m\u001b[0m\n\u001b[1;32m      3\u001b[0m \u001b[0;34m\u001b[0m\u001b[0m\n\u001b[0;32m----> 4\u001b[0;31m \u001b[0;32massert\u001b[0m \u001b[0mnp\u001b[0m\u001b[0;34m.\u001b[0m\u001b[0mmax\u001b[0m\u001b[0;34m(\u001b[0m\u001b[0mnp\u001b[0m\u001b[0;34m.\u001b[0m\u001b[0mabs\u001b[0m\u001b[0;34m(\u001b[0m\u001b[0merrors\u001b[0m\u001b[0;34m)\u001b[0m\u001b[0;34m)\u001b[0m \u001b[0;34m<\u001b[0m \u001b[0mtol\u001b[0m\u001b[0;34m\u001b[0m\u001b[0;34m\u001b[0m\u001b[0m\n\u001b[0m\u001b[1;32m      5\u001b[0m \u001b[0mprint\u001b[0m\u001b[0;34m(\u001b[0m\u001b[0;34m\"Assertion Passed: All errors are smaller than tolerance, which was set to: {}\"\u001b[0m\u001b[0;34m.\u001b[0m\u001b[0mformat\u001b[0m\u001b[0;34m(\u001b[0m\u001b[0mtol\u001b[0m\u001b[0;34m)\u001b[0m\u001b[0;34m)\u001b[0m\u001b[0;34m\u001b[0m\u001b[0;34m\u001b[0m\u001b[0m\n",
      "\u001b[0;31mAssertionError\u001b[0m: "
     ]
    }
   ],
   "source": [
    "errors = residual\n",
    "print(errors)\n",
    "\n",
    "assert np.max(np.abs(errors)) < tol\n",
    "print(\"Assertion Passed: All errors are smaller than tolerance, which was set to: {}\".format(tol))"
   ]
  },
  {
   "cell_type": "code",
   "execution_count": 25,
   "id": "a0fcc0f1",
   "metadata": {},
   "outputs": [
    {
     "name": "stdout",
     "output_type": "stream",
     "text": [
      "Learned functions:\n",
      "f0 3.0830767232133257e-16\n",
      "f1 [-1.38325958e-07  1.15271630e-07]\n",
      "f2 [ 1.46134134e-07 -1.21778446e-07]\n",
      "f3 [-6.00000005  5.00000004]\n",
      "f12 [[ 3.99164333 -5.98746499]\n",
      " [-5.98746499  2.9937325 ]]\n",
      "f13 [[ 0.00269305 -0.00403958]\n",
      " [-0.00403958  0.00201979]]\n",
      "f23 [[ 0.00269305 -0.00403958]\n",
      " [-0.00403958  0.00201979]]\n"
     ]
    }
   ],
   "source": [
    "print(\"Learned functions:\")\n",
    "print(\"f0\", f0)\n",
    "print(\"f1\", f1)\n",
    "print(\"f2\", f2)\n",
    "print(\"f3\", f3)\n",
    "print(\"f12\", f12)\n",
    "print(\"f13\", f13)\n",
    "print(\"f23\", f23)"
   ]
  },
  {
   "cell_type": "code",
   "execution_count": 26,
   "id": "34dca4ab",
   "metadata": {},
   "outputs": [
    {
     "name": "stdout",
     "output_type": "stream",
     "text": [
      "True pure function:\n",
      "f0 0\n",
      "f1 [0, 0]\n",
      "f2 [0, 0]\n",
      "f3 [-6, 5]\n",
      "f12 [[4, -6],\n",
      " [-6, 3]]\n",
      "f13 [[0, 0],\n",
      " [0, 0]]\n",
      "f23 [[0, 0],\n",
      " [0, 0]]\n",
      "\n"
     ]
    }
   ],
   "source": [
    "print('\\\n",
    "True pure function:\\n\\\n",
    "f0 0\\n\\\n",
    "f1 [0, 0]\\n\\\n",
    "f2 [0, 0]\\n\\\n",
    "f3 [-6, 5]\\n\\\n",
    "f12 [[4, -6],\\n\\\n",
    " [-6, 3]]\\n\\\n",
    "f13 [[0, 0],\\n\\\n",
    " [0, 0]]\\n\\\n",
    "f23 [[0, 0],\\n\\\n",
    " [0, 0]]\\n\\\n",
    "')"
   ]
  },
  {
   "cell_type": "markdown",
   "id": "8b429c9d",
   "metadata": {},
   "source": [
    "# Joint Learning\n",
    "First, we show that learning the main with backfitting should learn the same results as using pure coding for main effects."
   ]
  },
  {
   "cell_type": "code",
   "execution_count": 27,
   "id": "1251bfd3",
   "metadata": {},
   "outputs": [],
   "source": [
    "b1 = -6 * (1 - X[:, 0]) + 5 * X[:, 0]\n",
    "b2 = -6 * (1 - X[:, 1]) + 5 * X[:, 1]\n",
    "b3 = -6 * (1 - X[:, 2]) + 5 * X[:, 2]"
   ]
  },
  {
   "cell_type": "code",
   "execution_count": 28,
   "id": "7bf473cc",
   "metadata": {},
   "outputs": [],
   "source": [
    "Mm = np.c_[b1, b2, b3]\n",
    "cm = np.linalg.inv(Mm.T @ Mm) @ Mm.T @ Y"
   ]
  },
  {
   "cell_type": "code",
   "execution_count": 29,
   "id": "9486d730",
   "metadata": {},
   "outputs": [],
   "source": [
    "f1_ = cm[0] * np.array([-6, 5])\n",
    "f2_ = cm[1] * np.array([-6, 5])\n",
    "f3_ = cm[2] * np.array([-6, 5])"
   ]
  },
  {
   "cell_type": "code",
   "execution_count": 30,
   "id": "9f413563",
   "metadata": {},
   "outputs": [
    {
     "name": "stdout",
     "output_type": "stream",
     "text": [
      "f1=[-1.38325958e-07  1.15271630e-07],f1_=[ 0.04743083 -0.03952569]\n",
      "f2=[ 1.46134134e-07 -1.21778446e-07],f2_=[ 0.04743083 -0.03952569]\n",
      "f3=[-6.00000005  5.00000004],f3_=[-6.22529644  5.18774704]\n"
     ]
    }
   ],
   "source": [
    "print('f1={},f1_={}'.format(f1, f1_))\n",
    "print('f2={},f2_={}'.format(f2, f2_))\n",
    "print('f3={},f3_={}'.format(f3, f3_))"
   ]
  },
  {
   "cell_type": "markdown",
   "id": "a0efe340",
   "metadata": {},
   "source": [
    "Now we do Joint learning with pure coding."
   ]
  },
  {
   "cell_type": "code",
   "execution_count": 31,
   "id": "6e40c495",
   "metadata": {},
   "outputs": [],
   "source": [
    "b12 = 4 * (1 - X[:, 0]) * (1 - X[:, 1]) - 6 * X[:, 0] * (1 - X[:, 1]) \\\n",
    "    - 6 * (1 - X[:, 0]) * X[:, 1] + 3 * X[:, 0] * X[:, 1]\n",
    "b13 = 4 * (1 - X[:, 0]) * (1 - X[:, 2]) - 6 * X[:, 0] * (1 - X[:, 2]) \\\n",
    "    - 6 * (1 - X[:, 0]) * X[:, 2] + 3 * X[:, 0] * X[:, 2]\n",
    "b23 = 4 * (1 - X[:, 1]) * (1 - X[:, 2]) - 6 * X[:, 1] * (1 - X[:, 2]) \\\n",
    "    - 6 * (1 - X[:, 1]) * X[:, 2] + 3 * X[:, 1] * X[:, 2]"
   ]
  },
  {
   "cell_type": "code",
   "execution_count": 32,
   "id": "a07db3dd",
   "metadata": {},
   "outputs": [],
   "source": [
    "Ma = np.c_[b1, b2, b3, b12, b13, b23]\n",
    "ca = np.linalg.inv(Ma.T @ Ma) @ Ma.T @ Y"
   ]
  },
  {
   "cell_type": "code",
   "execution_count": 33,
   "id": "ca54f656",
   "metadata": {},
   "outputs": [],
   "source": [
    "residuala = Y - Ma @ ca"
   ]
  },
  {
   "cell_type": "code",
   "execution_count": 34,
   "id": "6d999974",
   "metadata": {},
   "outputs": [
    {
     "name": "stdout",
     "output_type": "stream",
     "text": [
      "[ 2.66453526e-15  0.00000000e+00  3.55271368e-15 -2.22044605e-16\n",
      "  1.77635684e-15 -5.55111512e-16  1.77635684e-15  0.00000000e+00\n",
      "  2.66453526e-15  0.00000000e+00  0.00000000e+00]\n",
      "Assertion Passed: All errors are smaller than tolerance, which was set to: 1e-10\n"
     ]
    }
   ],
   "source": [
    "errors = residuala\n",
    "print(errors)\n",
    "\n",
    "assert np.max(np.abs(errors)) < tol\n",
    "print(\"Assertion Passed: All errors are smaller than tolerance, which was set to: {}\".format(tol))"
   ]
  },
  {
   "cell_type": "code",
   "execution_count": 35,
   "id": "c8a339a8",
   "metadata": {},
   "outputs": [],
   "source": [
    "f1_ = ca[0] * np.array([-6, 5])\n",
    "f2_ = ca[1] * np.array([-6, 5])\n",
    "f3_ = ca[2] * np.array([-6, 5])\n",
    "f12_ = ca[3] * np.array([[4, -6], [-6, 3]])\n",
    "f13_ = ca[4] * np.array([[4, -6], [-6, 3]])\n",
    "f23_ = ca[5] * np.array([[4, -6], [-6, 3]])"
   ]
  },
  {
   "cell_type": "code",
   "execution_count": 36,
   "id": "812f7d16",
   "metadata": {},
   "outputs": [
    {
     "name": "stdout",
     "output_type": "stream",
     "text": [
      "Learned functions:\n",
      "f0 3.0830767232133257e-16\n",
      "f1 [-4.99600361e-16  4.16333634e-16]\n",
      "f2 [-1.66533454e-16  1.38777878e-16]\n",
      "f3 [-6.  5.]\n",
      "f12 [[ 4. -6.]\n",
      " [-6.  3.]]\n",
      "f13 [[-5.55111512e-17  8.32667268e-17]\n",
      " [ 8.32667268e-17 -4.16333634e-17]]\n",
      "f23 [[ 1.66533454e-16 -2.49800181e-16]\n",
      " [-2.49800181e-16  1.24900090e-16]]\n"
     ]
    }
   ],
   "source": [
    "print(\"Learned functions:\")\n",
    "print(\"f0\", f0)\n",
    "print(\"f1\", f1_)\n",
    "print(\"f2\", f2_)\n",
    "print(\"f3\", f3_)\n",
    "print(\"f12\", f12_)\n",
    "print(\"f13\", f13_)\n",
    "print(\"f23\", f23_)"
   ]
  },
  {
   "cell_type": "code",
   "execution_count": null,
   "id": "cec5e940",
   "metadata": {},
   "outputs": [],
   "source": []
  }
 ],
 "metadata": {
  "kernelspec": {
   "display_name": "Python 3 (ipykernel)",
   "language": "python",
   "name": "python3"
  },
  "language_info": {
   "codemirror_mode": {
    "name": "ipython",
    "version": 3
   },
   "file_extension": ".py",
   "mimetype": "text/x-python",
   "name": "python",
   "nbconvert_exporter": "python",
   "pygments_lexer": "ipython3",
   "version": "3.7.4"
  }
 },
 "nbformat": 4,
 "nbformat_minor": 5
}
