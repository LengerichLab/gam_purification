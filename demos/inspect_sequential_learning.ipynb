{
 "cells": [
  {
   "cell_type": "code",
   "execution_count": 1,
   "id": "e8624583",
   "metadata": {},
   "outputs": [],
   "source": [
    "import numpy as np\n",
    "\n",
    "X = []\n",
    "vals= [0, 1]\n",
    "for i in vals:\n",
    "    for j in vals:\n",
    "        for k in vals:\n",
    "            X.append([i, j, k])\n",
    "X.append([vals[0], vals[0], vals[0]])\n",
    "X.append([vals[1], vals[1], vals[1]])\n",
    "\n",
    "X = np.array(X)\n",
    "Y = X[:, 0]*X[:, 1] + X[:, 2]"
   ]
  },
  {
   "cell_type": "markdown",
   "id": "35d8dd93",
   "metadata": {},
   "source": [
    "## Fit intercept."
   ]
  },
  {
   "cell_type": "code",
   "execution_count": 2,
   "id": "49448d76",
   "metadata": {},
   "outputs": [
    {
     "data": {
      "text/plain": [
       "0.8"
      ]
     },
     "execution_count": 2,
     "metadata": {},
     "output_type": "execute_result"
    }
   ],
   "source": [
    "f0 = np.mean(Y)\n",
    "residual = Y - f0\n",
    "f0"
   ]
  },
  {
   "cell_type": "markdown",
   "id": "a9926419",
   "metadata": {},
   "source": [
    "## Fit mains."
   ]
  },
  {
   "cell_type": "code",
   "execution_count": 3,
   "id": "01fd122e",
   "metadata": {},
   "outputs": [],
   "source": [
    "def fit_main(residual, idx):\n",
    "    f = np.array([np.mean(residual[X[:, idx] == vals[0]]), np.mean(residual[X[:, idx] == vals[1]])])\n",
    "    f_preds = [f[vals.index(x)] for x in X[:, idx]]\n",
    "    residual = residual - f_preds\n",
    "    return f, f_preds, residual\n",
    "\n",
    "# Iterative algorithm, set the tolerance here.\n",
    "# Smaller tolerance values result in smaller errors.\n",
    "tol = 1e-10\n",
    "\n",
    "updates = np.inf\n",
    "residual = Y - f0\n",
    "residual_prev = residual\n",
    "f1, f1_preds, residual = fit_main(residual, 0)\n",
    "f2, f2_preds, residual = fit_main(residual, 1)\n",
    "f3, f3_preds, residual = fit_main(residual, 2)\n",
    "while updates > tol:\n",
    "    f1_new, f1_preds_new, residual = fit_main(residual, 0)\n",
    "    f2_new, f2_preds_new, residual = fit_main(residual, 1)\n",
    "    f3_new, f3_preds_new, residual = fit_main(residual, 2)\n",
    "    updates = np.sum(np.abs(f1_preds_new)) + np.sum(np.abs(f2_preds_new)) + np.sum(np.abs(f3_preds_new))\n",
    "    f1_preds += f1_preds_new\n",
    "    f2_preds += f2_preds_new\n",
    "    f3_preds += f3_preds_new\n",
    "    f1 += f1_new\n",
    "    f2 += f2_new\n",
    "    f3 += f3_new"
   ]
  },
  {
   "cell_type": "markdown",
   "id": "9c1368ef",
   "metadata": {},
   "source": [
    "## Fit pairs."
   ]
  },
  {
   "cell_type": "code",
   "execution_count": 4,
   "id": "730822c7",
   "metadata": {},
   "outputs": [],
   "source": [
    "def fit_pair(residual, idx1, idx2):\n",
    "    f = np.array([\n",
    "        np.array([np.mean(residual[np.logical_and(X[:, idx1] == vals[0], X[:, idx2] == vals[0])]), np.mean(residual[np.logical_and(X[:, idx1] == vals[0], X[:, idx2] == vals[1])])]),\n",
    "        np.array([np.mean(residual[np.logical_and(X[:, idx1] == vals[1], X[:, idx2] == vals[0])]), np.mean(residual[np.logical_and(X[:, idx1] == vals[1], X[:, idx2] == vals[1])])])\n",
    "    ])\n",
    "    f_preds = [f[vals.index(xi), vals.index(xj)] for (xi, xj) in X[:, [idx1, idx2]]]\n",
    "    residual = residual - f_preds\n",
    "    return f, f_preds, residual\n",
    "\n",
    "updates = np.inf\n",
    "residual_prev = residual\n",
    "f12, f12_preds, residual = fit_pair(residual, 0, 1)\n",
    "f13, f13_preds, residual = fit_pair(residual, 0, 2)\n",
    "f23, f23_preds, residual = fit_pair(residual, 1, 2)\n",
    "while updates > tol:\n",
    "    f12_new, f12_preds_new, residual = fit_pair(residual, 0, 1)\n",
    "    f13_new, f13_preds_new, residual = fit_pair(residual, 0, 2)\n",
    "    f23_new, f23_preds_new, residual = fit_pair(residual, 1, 2)\n",
    "    updates = np.sum(np.abs(f12_preds_new)) + np.sum(np.abs(f13_preds_new)) + np.sum(np.abs(f23_preds_new))\n",
    "    f12_preds += f12_preds_new\n",
    "    f13_preds += f13_preds_new\n",
    "    f23_preds += f23_preds_new\n",
    "    f12 += f12_new\n",
    "    f13 += f13_new\n",
    "    f23 += f23_new"
   ]
  },
  {
   "cell_type": "markdown",
   "id": "9299b23b",
   "metadata": {},
   "source": [
    "## Evaluate the residual."
   ]
  },
  {
   "cell_type": "code",
   "execution_count": 5,
   "id": "a7dc7ab4",
   "metadata": {},
   "outputs": [
    {
     "name": "stdout",
     "output_type": "stream",
     "text": [
      "[ 5.28269701e-19 -2.68132567e-17 -2.86336455e-17 -9.70874044e-19\n",
      " -1.05653940e-18  2.68132567e-17  2.86336455e-17  4.85437022e-19\n",
      "  5.28269701e-19  4.85437022e-19]\n",
      "Assertion Passed: All errors are smaller than tolerance, which was set to: 1e-10\n"
     ]
    }
   ],
   "source": [
    "errors = residual\n",
    "print(errors)\n",
    "\n",
    "assert np.max(np.abs(errors)) < tol\n",
    "print(\"Assertion Passed: All errors are smaller than tolerance, which was set to: {}\".format(tol))"
   ]
  },
  {
   "cell_type": "code",
   "execution_count": 6,
   "id": "d41b6e0c",
   "metadata": {},
   "outputs": [
    {
     "name": "stdout",
     "output_type": "stream",
     "text": [
      "Learned functions:\n",
      "f0 0.8\n",
      "f1 [-0.25  0.25]\n",
      "f2 [-0.25  0.25]\n",
      "f3 [-0.5  0.5]\n",
      "f12 [[ 0.2 -0.3]\n",
      " [-0.3  0.2]]\n",
      "f13 [[ 7.14771178e-14 -1.07215677e-13]\n",
      " [ 1.07198843e-13 -7.14658956e-14]]\n",
      "f23 [[-1.18859112e-14 -1.78791310e-14]\n",
      " [ 1.78288668e-14  1.19194206e-14]]\n"
     ]
    }
   ],
   "source": [
    "print(\"Learned functions:\")\n",
    "print(\"f0\", f0)\n",
    "print(\"f1\", f1)\n",
    "print(\"f2\", f2)\n",
    "print(\"f3\", f3)\n",
    "print(\"f12\", f12)\n",
    "print(\"f13\", f13)\n",
    "print(\"f23\", f23)"
   ]
  },
  {
   "cell_type": "markdown",
   "id": "04b809a5",
   "metadata": {},
   "source": [
    "## Post-hoc Purification"
   ]
  },
  {
   "cell_type": "code",
   "execution_count": 7,
   "id": "661ac8fe",
   "metadata": {},
   "outputs": [],
   "source": [
    "# https://github.com/blengerich/gam_purification\n",
    "from gam_purification.purify import purify\n",
    "def make_density(idx1, idx2):\n",
    "    densities = np.zeros((2, 2))\n",
    "    for xi, xj in X[:, [idx1, idx2]]:\n",
    "        densities[vals.index(xi), vals.index(xj)] += 1\n",
    "    return densities\n",
    "\n",
    "\n",
    "# Purify f12 into f1 and f2\n",
    "intercept, m1, m2, mat, i = purify(f12.copy(), densities=make_density(0, 1))\n",
    "\n",
    "f0 += intercept\n",
    "f1 += m1\n",
    "f2 += m2\n",
    "f12_pure = mat\n",
    "\n",
    "# Purify f13 into f1 and f3\n",
    "intercept, m1, m2, mat, i = purify(f13.copy(), densities=make_density(0, 2))\n",
    "\n",
    "f0 += intercept\n",
    "f1 += m1\n",
    "f3 += m2\n",
    "f13_pure = mat\n",
    "\n",
    "# Purify f23 into f2 and f3\n",
    "intercept, m1, m2, mat, i = purify(f23.copy(), densities=make_density(1, 2))\n",
    "\n",
    "f0 += intercept\n",
    "f2 += m1\n",
    "f3 += m2\n",
    "f23_pure = mat"
   ]
  },
  {
   "cell_type": "code",
   "execution_count": 8,
   "id": "4ed5fa98",
   "metadata": {},
   "outputs": [
    {
     "name": "stdout",
     "output_type": "stream",
     "text": [
      "Learned pure functions:\n",
      "f0 0.8\n",
      "f1 [-0.25  0.25]\n",
      "f2 [-0.25  0.25]\n",
      "f3 [-0.5  0.5]\n",
      "f12 [[ 0.2 -0.3]\n",
      " [-0.3  0.2]]\n",
      "f13 [[-1.42886903e-14 -2.14498686e-14]\n",
      " [ 2.14330354e-14  1.42999124e-14]]\n",
      "f23 [[-4.59351921e-16 -7.39292030e-16]\n",
      " [ 6.89027881e-16  4.92861353e-16]]\n"
     ]
    }
   ],
   "source": [
    "print(\"Learned pure functions:\")\n",
    "print(\"f0\", f0)\n",
    "print(\"f1\", f1)\n",
    "print(\"f2\", f2)\n",
    "print(\"f3\", f3)\n",
    "print(\"f12\", f12_pure)\n",
    "print(\"f13\", f13_pure)\n",
    "print(\"f23\", f23_pure)"
   ]
  },
  {
   "cell_type": "code",
   "execution_count": null,
   "id": "5d5cace0",
   "metadata": {},
   "outputs": [],
   "source": []
  }
 ],
 "metadata": {
  "kernelspec": {
   "display_name": "Python 3 (ipykernel)",
   "language": "python",
   "name": "python3"
  },
  "language_info": {
   "codemirror_mode": {
    "name": "ipython",
    "version": 3
   },
   "file_extension": ".py",
   "mimetype": "text/x-python",
   "name": "python",
   "nbconvert_exporter": "python",
   "pygments_lexer": "ipython3",
   "version": "3.7.4"
  }
 },
 "nbformat": 4,
 "nbformat_minor": 5
}
